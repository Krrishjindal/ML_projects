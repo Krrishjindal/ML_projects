{
 "cells": [
  {
   "cell_type": "code",
   "execution_count": 3,
   "id": "b4b21da4-2759-4631-ba1a-4f7197ec8a59",
   "metadata": {},
   "outputs": [
    {
     "name": "stdout",
     "output_type": "stream",
     "text": [
      "Final predicted values (rounded): [[0.]\n",
      " [1.]\n",
      " [1.]\n",
      " [0.]]\n"
     ]
    }
   ],
   "source": [
    "import numpy as np\n",
    "\n",
    "x=np.array([[0,0],[0,1],[1,0],[1,1]])\n",
    "y=np.array([[0],[1],[1],[0]])\n",
    "\n",
    "def sigmoid(z):\n",
    "    return 1/(1+np.exp(-z))\n",
    "\n",
    "bias1=np.zeros((1,2))\n",
    "weights1=np.random.randn(2,2)\n",
    "bias2=np.zeros((1,1))\n",
    "weights2=np.random.randn(2,1)\n",
    "learning=1\n",
    "iterations=1000\n",
    "for i in range(iterations):\n",
    "    z=sigmoid(x.dot(weights1)+bias1)\n",
    "    z2=sigmoid(z.dot(weights2)+bias2)\n",
    "    weights2=weights2-learning*((z.T.dot(z2-y))/len(z))\n",
    "    bias2=bias2-learning*((np.sum(z2-y, axis=0, keepdims=True))/len(z))\n",
    "    deviation=((z)*(1-z))*((z2-y).dot(weights2.T))\n",
    "    weights1=weights1-learning*((x.T.dot(deviation))/len(x))\n",
    "    bias1=bias1-learning*((np.sum(deviation, axis=0, keepdims=True))/len(x))\n",
    "\n",
    "z = sigmoid(x @ weights1 + bias1)\n",
    "z2 = sigmoid(z @ weights2 + bias2)\n",
    "print(\"Final predicted values (rounded):\",(np.round(z2)))\n"
   ]
  },
  {
   "cell_type": "code",
   "execution_count": null,
   "id": "e6451abd-757b-4942-a3a2-2177c4d9a44d",
   "metadata": {},
   "outputs": [],
   "source": []
  }
 ],
 "metadata": {
  "kernelspec": {
   "display_name": "Python [conda env:base] *",
   "language": "python",
   "name": "conda-base-py"
  },
  "language_info": {
   "codemirror_mode": {
    "name": "ipython",
    "version": 3
   },
   "file_extension": ".py",
   "mimetype": "text/x-python",
   "name": "python",
   "nbconvert_exporter": "python",
   "pygments_lexer": "ipython3",
   "version": "3.12.7"
  }
 },
 "nbformat": 4,
 "nbformat_minor": 5
}
